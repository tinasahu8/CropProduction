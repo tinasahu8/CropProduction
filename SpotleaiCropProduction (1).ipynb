{
  "nbformat": 4,
  "nbformat_minor": 0,
  "metadata": {
    "colab": {
      "name": "SpotleaiCropProduction.ipynb",
      "provenance": [],
      "collapsed_sections": []
    },
    "kernelspec": {
      "display_name": "Python 3",
      "name": "python3"
    },
    "language_info": {
      "name": "python"
    }
  },
  "cells": [
    {
      "cell_type": "code",
      "metadata": {
        "id": "EFQ76KSscH5y"
      },
      "source": [
        "import csv # For handling csv file\n",
        "import pandas as pd # To work with data\n",
        "import numpy as np # Linear Algebra\n",
        "import matplotlib.pyplot as plt # Visualization"
      ],
      "execution_count": null,
      "outputs": []
    },
    {
      "cell_type": "code",
      "metadata": {
        "colab": {
          "base_uri": "https://localhost:8080/",
          "height": 206
        },
        "id": "RaSe2DuZcguI",
        "outputId": "add341da-fe4a-455f-a67a-a54c85b0d590"
      },
      "source": [
        "data = pd.read_csv('/content/drive/MyDrive/state-wise-crop-production-India.csv') # Read and mound dataset from drive\n",
        "data.head(5) #Display top 5 values of the dataset"
      ],
      "execution_count": null,
      "outputs": [
        {
          "output_type": "execute_result",
          "data": {
            "text/html": [
              "<div>\n",
              "<style scoped>\n",
              "    .dataframe tbody tr th:only-of-type {\n",
              "        vertical-align: middle;\n",
              "    }\n",
              "\n",
              "    .dataframe tbody tr th {\n",
              "        vertical-align: top;\n",
              "    }\n",
              "\n",
              "    .dataframe thead th {\n",
              "        text-align: right;\n",
              "    }\n",
              "</style>\n",
              "<table border=\"1\" class=\"dataframe\">\n",
              "  <thead>\n",
              "    <tr style=\"text-align: right;\">\n",
              "      <th></th>\n",
              "      <th>State</th>\n",
              "      <th>Year</th>\n",
              "      <th>Crop</th>\n",
              "      <th>Area</th>\n",
              "      <th>Production</th>\n",
              "    </tr>\n",
              "  </thead>\n",
              "  <tbody>\n",
              "    <tr>\n",
              "      <th>0</th>\n",
              "      <td>Andaman and Nicobar Islands</td>\n",
              "      <td>2000</td>\n",
              "      <td>Arecanut</td>\n",
              "      <td>4354.0</td>\n",
              "      <td>7200.0</td>\n",
              "    </tr>\n",
              "    <tr>\n",
              "      <th>1</th>\n",
              "      <td>Andaman and Nicobar Islands</td>\n",
              "      <td>2000</td>\n",
              "      <td>Banana</td>\n",
              "      <td>1707.0</td>\n",
              "      <td>12714.0</td>\n",
              "    </tr>\n",
              "    <tr>\n",
              "      <th>2</th>\n",
              "      <td>Andaman and Nicobar Islands</td>\n",
              "      <td>2000</td>\n",
              "      <td>Cashewnut</td>\n",
              "      <td>800.0</td>\n",
              "      <td>219.0</td>\n",
              "    </tr>\n",
              "    <tr>\n",
              "      <th>3</th>\n",
              "      <td>Andaman and Nicobar Islands</td>\n",
              "      <td>2000</td>\n",
              "      <td>Coconut</td>\n",
              "      <td>25160.0</td>\n",
              "      <td>89000000.0</td>\n",
              "    </tr>\n",
              "    <tr>\n",
              "      <th>4</th>\n",
              "      <td>Andaman and Nicobar Islands</td>\n",
              "      <td>2000</td>\n",
              "      <td>Dry ginger</td>\n",
              "      <td>388.0</td>\n",
              "      <td>1220.0</td>\n",
              "    </tr>\n",
              "  </tbody>\n",
              "</table>\n",
              "</div>"
            ],
            "text/plain": [
              "                         State  Year        Crop     Area  Production\n",
              "0  Andaman and Nicobar Islands  2000    Arecanut   4354.0      7200.0\n",
              "1  Andaman and Nicobar Islands  2000      Banana   1707.0     12714.0\n",
              "2  Andaman and Nicobar Islands  2000   Cashewnut    800.0       219.0\n",
              "3  Andaman and Nicobar Islands  2000    Coconut   25160.0  89000000.0\n",
              "4  Andaman and Nicobar Islands  2000  Dry ginger    388.0      1220.0"
            ]
          },
          "metadata": {
            "tags": []
          },
          "execution_count": 30
        }
      ]
    },
    {
      "cell_type": "markdown",
      "metadata": {
        "id": "KjrmF9YAyn7O"
      },
      "source": [
        "**Q.1 Find the average production of crops in India.**\n",
        "\n"
      ]
    },
    {
      "cell_type": "code",
      "metadata": {
        "colab": {
          "base_uri": "https://localhost:8080/"
        },
        "id": "87ajp5y3y-iS",
        "outputId": "2b29cbef-19b0-46df-c06d-5f6ee27c2213"
      },
      "source": [
        "#From the dataset, finding the average of Production column from the dataset\n",
        "avg = data['Production'].mean() \n",
        "print ('Average Production of Crops in India(in Tonnes): ' + str(avg))"
      ],
      "execution_count": null,
      "outputs": [
        {
          "output_type": "stream",
          "text": [
            "Average Production of Crops in India(in Tonnes): 11154093.940590419\n"
          ],
          "name": "stdout"
        }
      ]
    },
    {
      "cell_type": "markdown",
      "metadata": {
        "id": "muB6QGB5yarm"
      },
      "source": [
        "**Q.2 Which crop has maximum yield?**\n"
      ]
    },
    {
      "cell_type": "code",
      "metadata": {
        "colab": {
          "base_uri": "https://localhost:8080/",
          "height": 423
        },
        "id": "iPVwCq9ayZf_",
        "outputId": "c0ea3f76-3c73-4550-cdf4-0dc8684691f5"
      },
      "source": [
        "#Adding Yield Column\n",
        "#Yield = Production/Area \n",
        "data['Yield'] = data['Production'] / data['Area']\n",
        "data"
      ],
      "execution_count": null,
      "outputs": [
        {
          "output_type": "execute_result",
          "data": {
            "text/html": [
              "<div>\n",
              "<style scoped>\n",
              "    .dataframe tbody tr th:only-of-type {\n",
              "        vertical-align: middle;\n",
              "    }\n",
              "\n",
              "    .dataframe tbody tr th {\n",
              "        vertical-align: top;\n",
              "    }\n",
              "\n",
              "    .dataframe thead th {\n",
              "        text-align: right;\n",
              "    }\n",
              "</style>\n",
              "<table border=\"1\" class=\"dataframe\">\n",
              "  <thead>\n",
              "    <tr style=\"text-align: right;\">\n",
              "      <th></th>\n",
              "      <th>State</th>\n",
              "      <th>Year</th>\n",
              "      <th>Crop</th>\n",
              "      <th>Area</th>\n",
              "      <th>Production</th>\n",
              "      <th>Yield</th>\n",
              "    </tr>\n",
              "  </thead>\n",
              "  <tbody>\n",
              "    <tr>\n",
              "      <th>0</th>\n",
              "      <td>Andaman and Nicobar Islands</td>\n",
              "      <td>2000</td>\n",
              "      <td>Arecanut</td>\n",
              "      <td>4354.0</td>\n",
              "      <td>7200.0</td>\n",
              "      <td>1.653652</td>\n",
              "    </tr>\n",
              "    <tr>\n",
              "      <th>1</th>\n",
              "      <td>Andaman and Nicobar Islands</td>\n",
              "      <td>2000</td>\n",
              "      <td>Banana</td>\n",
              "      <td>1707.0</td>\n",
              "      <td>12714.0</td>\n",
              "      <td>7.448155</td>\n",
              "    </tr>\n",
              "    <tr>\n",
              "      <th>2</th>\n",
              "      <td>Andaman and Nicobar Islands</td>\n",
              "      <td>2000</td>\n",
              "      <td>Cashewnut</td>\n",
              "      <td>800.0</td>\n",
              "      <td>219.0</td>\n",
              "      <td>0.273750</td>\n",
              "    </tr>\n",
              "    <tr>\n",
              "      <th>3</th>\n",
              "      <td>Andaman and Nicobar Islands</td>\n",
              "      <td>2000</td>\n",
              "      <td>Coconut</td>\n",
              "      <td>25160.0</td>\n",
              "      <td>89000000.0</td>\n",
              "      <td>3537.360890</td>\n",
              "    </tr>\n",
              "    <tr>\n",
              "      <th>4</th>\n",
              "      <td>Andaman and Nicobar Islands</td>\n",
              "      <td>2000</td>\n",
              "      <td>Dry ginger</td>\n",
              "      <td>388.0</td>\n",
              "      <td>1220.0</td>\n",
              "      <td>3.144330</td>\n",
              "    </tr>\n",
              "    <tr>\n",
              "      <th>...</th>\n",
              "      <td>...</td>\n",
              "      <td>...</td>\n",
              "      <td>...</td>\n",
              "      <td>...</td>\n",
              "      <td>...</td>\n",
              "      <td>...</td>\n",
              "    </tr>\n",
              "    <tr>\n",
              "      <th>10699</th>\n",
              "      <td>West Bengal</td>\n",
              "      <td>2013</td>\n",
              "      <td>Sugarcane</td>\n",
              "      <td>17021.0</td>\n",
              "      <td>1945042.0</td>\n",
              "      <td>114.273074</td>\n",
              "    </tr>\n",
              "    <tr>\n",
              "      <th>10700</th>\n",
              "      <td>West Bengal</td>\n",
              "      <td>2013</td>\n",
              "      <td>Sunflower</td>\n",
              "      <td>6434.0</td>\n",
              "      <td>8717.0</td>\n",
              "      <td>1.354834</td>\n",
              "    </tr>\n",
              "    <tr>\n",
              "      <th>10701</th>\n",
              "      <td>West Bengal</td>\n",
              "      <td>2013</td>\n",
              "      <td>Tobacco</td>\n",
              "      <td>12570.0</td>\n",
              "      <td>22287.0</td>\n",
              "      <td>1.773031</td>\n",
              "    </tr>\n",
              "    <tr>\n",
              "      <th>10702</th>\n",
              "      <td>West Bengal</td>\n",
              "      <td>2013</td>\n",
              "      <td>Urad</td>\n",
              "      <td>70052.0</td>\n",
              "      <td>48810.0</td>\n",
              "      <td>0.696768</td>\n",
              "    </tr>\n",
              "    <tr>\n",
              "      <th>10703</th>\n",
              "      <td>West Bengal</td>\n",
              "      <td>2013</td>\n",
              "      <td>Wheat</td>\n",
              "      <td>331481.0</td>\n",
              "      <td>927837.0</td>\n",
              "      <td>2.799065</td>\n",
              "    </tr>\n",
              "  </tbody>\n",
              "</table>\n",
              "<p>10704 rows × 6 columns</p>\n",
              "</div>"
            ],
            "text/plain": [
              "                             State  Year  ...  Production        Yield\n",
              "0      Andaman and Nicobar Islands  2000  ...      7200.0     1.653652\n",
              "1      Andaman and Nicobar Islands  2000  ...     12714.0     7.448155\n",
              "2      Andaman and Nicobar Islands  2000  ...       219.0     0.273750\n",
              "3      Andaman and Nicobar Islands  2000  ...  89000000.0  3537.360890\n",
              "4      Andaman and Nicobar Islands  2000  ...      1220.0     3.144330\n",
              "...                            ...   ...  ...         ...          ...\n",
              "10699                  West Bengal  2013  ...   1945042.0   114.273074\n",
              "10700                  West Bengal  2013  ...      8717.0     1.354834\n",
              "10701                  West Bengal  2013  ...     22287.0     1.773031\n",
              "10702                  West Bengal  2013  ...     48810.0     0.696768\n",
              "10703                  West Bengal  2013  ...    927837.0     2.799065\n",
              "\n",
              "[10704 rows x 6 columns]"
            ]
          },
          "metadata": {
            "tags": []
          },
          "execution_count": 34
        }
      ]
    },
    {
      "cell_type": "code",
      "metadata": {
        "colab": {
          "base_uri": "https://localhost:8080/",
          "height": 423
        },
        "id": "XL7H6phc3FUq",
        "outputId": "b2d4a932-9c64-45d1-e678-3e7b3350c027"
      },
      "source": [
        "# Finding average yeild per crop\n",
        "max_yeild = data.groupby('Crop').Yield.mean().to_frame('Avgyeild').reset_index()\n",
        "max_yeild"
      ],
      "execution_count": null,
      "outputs": [
        {
          "output_type": "execute_result",
          "data": {
            "text/html": [
              "<div>\n",
              "<style scoped>\n",
              "    .dataframe tbody tr th:only-of-type {\n",
              "        vertical-align: middle;\n",
              "    }\n",
              "\n",
              "    .dataframe tbody tr th {\n",
              "        vertical-align: top;\n",
              "    }\n",
              "\n",
              "    .dataframe thead th {\n",
              "        text-align: right;\n",
              "    }\n",
              "</style>\n",
              "<table border=\"1\" class=\"dataframe\">\n",
              "  <thead>\n",
              "    <tr style=\"text-align: right;\">\n",
              "      <th></th>\n",
              "      <th>Crop</th>\n",
              "      <th>Avgyeild</th>\n",
              "    </tr>\n",
              "  </thead>\n",
              "  <tbody>\n",
              "    <tr>\n",
              "      <th>0</th>\n",
              "      <td>Apple</td>\n",
              "      <td>0.000000</td>\n",
              "    </tr>\n",
              "    <tr>\n",
              "      <th>1</th>\n",
              "      <td>Arcanut (Processed)</td>\n",
              "      <td>1.338026</td>\n",
              "    </tr>\n",
              "    <tr>\n",
              "      <th>2</th>\n",
              "      <td>Arecanut</td>\n",
              "      <td>1.847306</td>\n",
              "    </tr>\n",
              "    <tr>\n",
              "      <th>3</th>\n",
              "      <td>Arhar/Tur</td>\n",
              "      <td>0.784430</td>\n",
              "    </tr>\n",
              "    <tr>\n",
              "      <th>4</th>\n",
              "      <td>Ash Gourd</td>\n",
              "      <td>0.000000</td>\n",
              "    </tr>\n",
              "    <tr>\n",
              "      <th>...</th>\n",
              "      <td>...</td>\n",
              "      <td>...</td>\n",
              "    </tr>\n",
              "    <tr>\n",
              "      <th>117</th>\n",
              "      <td>Wheat</td>\n",
              "      <td>1.977121</td>\n",
              "    </tr>\n",
              "    <tr>\n",
              "      <th>118</th>\n",
              "      <td>Yam</td>\n",
              "      <td>0.000000</td>\n",
              "    </tr>\n",
              "    <tr>\n",
              "      <th>119</th>\n",
              "      <td>other fibres</td>\n",
              "      <td>0.000000</td>\n",
              "    </tr>\n",
              "    <tr>\n",
              "      <th>120</th>\n",
              "      <td>other misc. pulses</td>\n",
              "      <td>0.222164</td>\n",
              "    </tr>\n",
              "    <tr>\n",
              "      <th>121</th>\n",
              "      <td>other oilseeds</td>\n",
              "      <td>1.528160</td>\n",
              "    </tr>\n",
              "  </tbody>\n",
              "</table>\n",
              "<p>122 rows × 2 columns</p>\n",
              "</div>"
            ],
            "text/plain": [
              "                    Crop  Avgyeild\n",
              "0                  Apple  0.000000\n",
              "1    Arcanut (Processed)  1.338026\n",
              "2               Arecanut  1.847306\n",
              "3              Arhar/Tur  0.784430\n",
              "4              Ash Gourd  0.000000\n",
              "..                   ...       ...\n",
              "117                Wheat  1.977121\n",
              "118                  Yam  0.000000\n",
              "119         other fibres  0.000000\n",
              "120   other misc. pulses  0.222164\n",
              "121       other oilseeds  1.528160\n",
              "\n",
              "[122 rows x 2 columns]"
            ]
          },
          "metadata": {
            "tags": []
          },
          "execution_count": 35
        }
      ]
    },
    {
      "cell_type": "code",
      "metadata": {
        "colab": {
          "base_uri": "https://localhost:8080/"
        },
        "id": "9KTozpAb1LgZ",
        "outputId": "d4a62011-ae24-43db-d526-e382ff5d921a"
      },
      "source": [
        "# Finding maximum yield per crop\n",
        "# Selecting the max value for Avgyeild column and displaying corresponding Crop name.\n",
        "print(\"The crop which has maximum yeild is: \")\n",
        "max_yeild[max_yeild.Avgyeild == max_yeild.Avgyeild.max()].Crop "
      ],
      "execution_count": null,
      "outputs": [
        {
          "output_type": "stream",
          "text": [
            "The crop which has maximum yeild is: \n"
          ],
          "name": "stdout"
        },
        {
          "output_type": "execute_result",
          "data": {
            "text/plain": [
              "28    Coconut \n",
              "Name: Crop, dtype: object"
            ]
          },
          "metadata": {
            "tags": []
          },
          "execution_count": 36
        }
      ]
    },
    {
      "cell_type": "markdown",
      "metadata": {
        "id": "qJ65N3IlAdyc"
      },
      "source": [
        "Coconut has maximum yield.\n"
      ]
    },
    {
      "cell_type": "markdown",
      "metadata": {
        "id": "N9k4R5mwmXUf"
      },
      "source": [
        "**Q.3 Comparative study on Rice production between Odisha and West Bengal**\n"
      ]
    },
    {
      "cell_type": "code",
      "metadata": {
        "colab": {
          "base_uri": "https://localhost:8080/",
          "height": 927
        },
        "id": "o-L8-47dmSAJ",
        "outputId": "93b3891e-ff7b-4e83-bcc9-da5bf9f17027"
      },
      "source": [
        "#From the datset selecting rows having \"Rice\" as crop and state is \"Odisha\" or \"West Bengal\"\n",
        "\n",
        "ricein_O_and_WB=data[(data.Crop=='Rice') & (data.State.isin(['Odisha','West Bengal']))]\n",
        "ricein_O_and_WB"
      ],
      "execution_count": null,
      "outputs": [
        {
          "output_type": "execute_result",
          "data": {
            "text/html": [
              "<div>\n",
              "<style scoped>\n",
              "    .dataframe tbody tr th:only-of-type {\n",
              "        vertical-align: middle;\n",
              "    }\n",
              "\n",
              "    .dataframe tbody tr th {\n",
              "        vertical-align: top;\n",
              "    }\n",
              "\n",
              "    .dataframe thead th {\n",
              "        text-align: right;\n",
              "    }\n",
              "</style>\n",
              "<table border=\"1\" class=\"dataframe\">\n",
              "  <thead>\n",
              "    <tr style=\"text-align: right;\">\n",
              "      <th></th>\n",
              "      <th>State</th>\n",
              "      <th>Year</th>\n",
              "      <th>Crop</th>\n",
              "      <th>Area</th>\n",
              "      <th>Production</th>\n",
              "      <th>Yield</th>\n",
              "    </tr>\n",
              "  </thead>\n",
              "  <tbody>\n",
              "    <tr>\n",
              "      <th>6738</th>\n",
              "      <td>Odisha</td>\n",
              "      <td>2000</td>\n",
              "      <td>Rice</td>\n",
              "      <td>4433520.0</td>\n",
              "      <td>4613380.0</td>\n",
              "      <td>1.040568</td>\n",
              "    </tr>\n",
              "    <tr>\n",
              "      <th>6773</th>\n",
              "      <td>Odisha</td>\n",
              "      <td>2001</td>\n",
              "      <td>Rice</td>\n",
              "      <td>4500000.0</td>\n",
              "      <td>7220000.0</td>\n",
              "      <td>1.604444</td>\n",
              "    </tr>\n",
              "    <tr>\n",
              "      <th>6807</th>\n",
              "      <td>Odisha</td>\n",
              "      <td>2002</td>\n",
              "      <td>Rice</td>\n",
              "      <td>4273000.0</td>\n",
              "      <td>3278000.0</td>\n",
              "      <td>0.767143</td>\n",
              "    </tr>\n",
              "    <tr>\n",
              "      <th>6841</th>\n",
              "      <td>Odisha</td>\n",
              "      <td>2003</td>\n",
              "      <td>Rice</td>\n",
              "      <td>4501000.0</td>\n",
              "      <td>6801000.0</td>\n",
              "      <td>1.510998</td>\n",
              "    </tr>\n",
              "    <tr>\n",
              "      <th>6873</th>\n",
              "      <td>Odisha</td>\n",
              "      <td>2004</td>\n",
              "      <td>Rice</td>\n",
              "      <td>4492000.0</td>\n",
              "      <td>6536000.0</td>\n",
              "      <td>1.455031</td>\n",
              "    </tr>\n",
              "    <tr>\n",
              "      <th>6892</th>\n",
              "      <td>Odisha</td>\n",
              "      <td>2005</td>\n",
              "      <td>Rice</td>\n",
              "      <td>4479000.0</td>\n",
              "      <td>6858000.0</td>\n",
              "      <td>1.531145</td>\n",
              "    </tr>\n",
              "    <tr>\n",
              "      <th>6905</th>\n",
              "      <td>Odisha</td>\n",
              "      <td>2006</td>\n",
              "      <td>Rice</td>\n",
              "      <td>4451000.0</td>\n",
              "      <td>6823000.0</td>\n",
              "      <td>1.532914</td>\n",
              "    </tr>\n",
              "    <tr>\n",
              "      <th>6918</th>\n",
              "      <td>Odisha</td>\n",
              "      <td>2007</td>\n",
              "      <td>Rice</td>\n",
              "      <td>4452000.0</td>\n",
              "      <td>7540000.0</td>\n",
              "      <td>1.693621</td>\n",
              "    </tr>\n",
              "    <tr>\n",
              "      <th>6931</th>\n",
              "      <td>Odisha</td>\n",
              "      <td>2008</td>\n",
              "      <td>Rice</td>\n",
              "      <td>4455000.0</td>\n",
              "      <td>6812000.0</td>\n",
              "      <td>1.529068</td>\n",
              "    </tr>\n",
              "    <tr>\n",
              "      <th>6944</th>\n",
              "      <td>Odisha</td>\n",
              "      <td>2009</td>\n",
              "      <td>Rice</td>\n",
              "      <td>4365000.0</td>\n",
              "      <td>6913000.0</td>\n",
              "      <td>1.583734</td>\n",
              "    </tr>\n",
              "    <tr>\n",
              "      <th>6957</th>\n",
              "      <td>Odisha</td>\n",
              "      <td>2010</td>\n",
              "      <td>Rice</td>\n",
              "      <td>4226000.0</td>\n",
              "      <td>6824000.0</td>\n",
              "      <td>1.614766</td>\n",
              "    </tr>\n",
              "    <tr>\n",
              "      <th>6971</th>\n",
              "      <td>Odisha</td>\n",
              "      <td>2011</td>\n",
              "      <td>Rice</td>\n",
              "      <td>4005000.0</td>\n",
              "      <td>5806000.0</td>\n",
              "      <td>1.449688</td>\n",
              "    </tr>\n",
              "    <tr>\n",
              "      <th>6984</th>\n",
              "      <td>Odisha</td>\n",
              "      <td>2012</td>\n",
              "      <td>Rice</td>\n",
              "      <td>12378000.0</td>\n",
              "      <td>9496000.0</td>\n",
              "      <td>0.767168</td>\n",
              "    </tr>\n",
              "    <tr>\n",
              "      <th>6997</th>\n",
              "      <td>Odisha</td>\n",
              "      <td>2013</td>\n",
              "      <td>Rice</td>\n",
              "      <td>4180000.0</td>\n",
              "      <td>7610000.0</td>\n",
              "      <td>1.820574</td>\n",
              "    </tr>\n",
              "    <tr>\n",
              "      <th>10211</th>\n",
              "      <td>West Bengal</td>\n",
              "      <td>2000</td>\n",
              "      <td>Rice</td>\n",
              "      <td>5435323.0</td>\n",
              "      <td>12428038.0</td>\n",
              "      <td>2.286532</td>\n",
              "    </tr>\n",
              "    <tr>\n",
              "      <th>10250</th>\n",
              "      <td>West Bengal</td>\n",
              "      <td>2001</td>\n",
              "      <td>Rice</td>\n",
              "      <td>5503087.0</td>\n",
              "      <td>13815548.0</td>\n",
              "      <td>2.510509</td>\n",
              "    </tr>\n",
              "    <tr>\n",
              "      <th>10289</th>\n",
              "      <td>West Bengal</td>\n",
              "      <td>2002</td>\n",
              "      <td>Rice</td>\n",
              "      <td>5842127.0</td>\n",
              "      <td>14389238.0</td>\n",
              "      <td>2.463014</td>\n",
              "    </tr>\n",
              "    <tr>\n",
              "      <th>10328</th>\n",
              "      <td>West Bengal</td>\n",
              "      <td>2003</td>\n",
              "      <td>Rice</td>\n",
              "      <td>5856607.0</td>\n",
              "      <td>14662239.0</td>\n",
              "      <td>2.503538</td>\n",
              "    </tr>\n",
              "    <tr>\n",
              "      <th>10366</th>\n",
              "      <td>West Bengal</td>\n",
              "      <td>2004</td>\n",
              "      <td>Rice</td>\n",
              "      <td>5783613.0</td>\n",
              "      <td>14884889.0</td>\n",
              "      <td>2.573632</td>\n",
              "    </tr>\n",
              "    <tr>\n",
              "      <th>10405</th>\n",
              "      <td>West Bengal</td>\n",
              "      <td>2005</td>\n",
              "      <td>Rice</td>\n",
              "      <td>5782949.0</td>\n",
              "      <td>14510742.0</td>\n",
              "      <td>2.509229</td>\n",
              "    </tr>\n",
              "    <tr>\n",
              "      <th>10444</th>\n",
              "      <td>West Bengal</td>\n",
              "      <td>2006</td>\n",
              "      <td>Rice</td>\n",
              "      <td>5687028.0</td>\n",
              "      <td>14745892.0</td>\n",
              "      <td>2.592899</td>\n",
              "    </tr>\n",
              "    <tr>\n",
              "      <th>10482</th>\n",
              "      <td>West Bengal</td>\n",
              "      <td>2007</td>\n",
              "      <td>Rice</td>\n",
              "      <td>5719755.0</td>\n",
              "      <td>14719520.0</td>\n",
              "      <td>2.573453</td>\n",
              "    </tr>\n",
              "    <tr>\n",
              "      <th>10522</th>\n",
              "      <td>West Bengal</td>\n",
              "      <td>2008</td>\n",
              "      <td>Rice</td>\n",
              "      <td>5935696.0</td>\n",
              "      <td>15037240.0</td>\n",
              "      <td>2.533358</td>\n",
              "    </tr>\n",
              "    <tr>\n",
              "      <th>10556</th>\n",
              "      <td>West Bengal</td>\n",
              "      <td>2009</td>\n",
              "      <td>Rice</td>\n",
              "      <td>5630095.0</td>\n",
              "      <td>14340605.0</td>\n",
              "      <td>2.547134</td>\n",
              "    </tr>\n",
              "    <tr>\n",
              "      <th>10590</th>\n",
              "      <td>West Bengal</td>\n",
              "      <td>2010</td>\n",
              "      <td>Rice</td>\n",
              "      <td>4944146.0</td>\n",
              "      <td>13389610.0</td>\n",
              "      <td>2.708174</td>\n",
              "    </tr>\n",
              "    <tr>\n",
              "      <th>10624</th>\n",
              "      <td>West Bengal</td>\n",
              "      <td>2011</td>\n",
              "      <td>Rice</td>\n",
              "      <td>5433700.0</td>\n",
              "      <td>14605766.0</td>\n",
              "      <td>2.687996</td>\n",
              "    </tr>\n",
              "    <tr>\n",
              "      <th>10658</th>\n",
              "      <td>West Bengal</td>\n",
              "      <td>2012</td>\n",
              "      <td>Rice</td>\n",
              "      <td>5444318.0</td>\n",
              "      <td>14946735.0</td>\n",
              "      <td>2.745382</td>\n",
              "    </tr>\n",
              "    <tr>\n",
              "      <th>10693</th>\n",
              "      <td>West Bengal</td>\n",
              "      <td>2013</td>\n",
              "      <td>Rice</td>\n",
              "      <td>5513687.0</td>\n",
              "      <td>15376869.0</td>\n",
              "      <td>2.788854</td>\n",
              "    </tr>\n",
              "  </tbody>\n",
              "</table>\n",
              "</div>"
            ],
            "text/plain": [
              "             State  Year  Crop        Area  Production     Yield\n",
              "6738        Odisha  2000  Rice   4433520.0   4613380.0  1.040568\n",
              "6773        Odisha  2001  Rice   4500000.0   7220000.0  1.604444\n",
              "6807        Odisha  2002  Rice   4273000.0   3278000.0  0.767143\n",
              "6841        Odisha  2003  Rice   4501000.0   6801000.0  1.510998\n",
              "6873        Odisha  2004  Rice   4492000.0   6536000.0  1.455031\n",
              "6892        Odisha  2005  Rice   4479000.0   6858000.0  1.531145\n",
              "6905        Odisha  2006  Rice   4451000.0   6823000.0  1.532914\n",
              "6918        Odisha  2007  Rice   4452000.0   7540000.0  1.693621\n",
              "6931        Odisha  2008  Rice   4455000.0   6812000.0  1.529068\n",
              "6944        Odisha  2009  Rice   4365000.0   6913000.0  1.583734\n",
              "6957        Odisha  2010  Rice   4226000.0   6824000.0  1.614766\n",
              "6971        Odisha  2011  Rice   4005000.0   5806000.0  1.449688\n",
              "6984        Odisha  2012  Rice  12378000.0   9496000.0  0.767168\n",
              "6997        Odisha  2013  Rice   4180000.0   7610000.0  1.820574\n",
              "10211  West Bengal  2000  Rice   5435323.0  12428038.0  2.286532\n",
              "10250  West Bengal  2001  Rice   5503087.0  13815548.0  2.510509\n",
              "10289  West Bengal  2002  Rice   5842127.0  14389238.0  2.463014\n",
              "10328  West Bengal  2003  Rice   5856607.0  14662239.0  2.503538\n",
              "10366  West Bengal  2004  Rice   5783613.0  14884889.0  2.573632\n",
              "10405  West Bengal  2005  Rice   5782949.0  14510742.0  2.509229\n",
              "10444  West Bengal  2006  Rice   5687028.0  14745892.0  2.592899\n",
              "10482  West Bengal  2007  Rice   5719755.0  14719520.0  2.573453\n",
              "10522  West Bengal  2008  Rice   5935696.0  15037240.0  2.533358\n",
              "10556  West Bengal  2009  Rice   5630095.0  14340605.0  2.547134\n",
              "10590  West Bengal  2010  Rice   4944146.0  13389610.0  2.708174\n",
              "10624  West Bengal  2011  Rice   5433700.0  14605766.0  2.687996\n",
              "10658  West Bengal  2012  Rice   5444318.0  14946735.0  2.745382\n",
              "10693  West Bengal  2013  Rice   5513687.0  15376869.0  2.788854"
            ]
          },
          "metadata": {
            "tags": []
          },
          "execution_count": 37
        }
      ]
    },
    {
      "cell_type": "code",
      "metadata": {
        "colab": {
          "base_uri": "https://localhost:8080/",
          "height": 419
        },
        "id": "m2MFiBdkWacI",
        "outputId": "1fb3ef7c-4785-42ca-d93d-e007bedfd1a4"
      },
      "source": [
        "ricein_O_and_WB.pivot(index='Year',columns='State',values='Production').plot(kind='bar',figsize=(13,6))\n",
        "plt.xlabel('Year')\n",
        "plt.ylabel('Production (in Tonnes)')\n",
        "plt.title('Rice Production in Odisha and WestBengal')\n",
        "plt.legend(loc='upper right')\n",
        "plt.show()"
      ],
      "execution_count": null,
      "outputs": [
        {
          "output_type": "display_data",
          "data": {
            "image/png": "[encoded data removed]",
            "text/plain": [
              "<Figure size 936x432 with 1 Axes>"
            ]
          },
          "metadata": {
            "tags": [],
            "needs_background": "light"
          }
        }
      ]
    },
    {
      "cell_type": "markdown",
      "metadata": {
        "id": "T4FIpVp3BYTv"
      },
      "source": [
        "It can be seen that Rice production for West Bengal is greater than the Rice production in Odisha for every year"
      ]
    },
    {
      "cell_type": "code",
      "metadata": {
        "colab": {
          "base_uri": "https://localhost:8080/",
          "height": 456
        },
        "id": "ItNaojUhwTIX",
        "outputId": "0eb8bbc4-6db7-4f81-ca17-04017d40af7a"
      },
      "source": [
        "ricein_O_and_WB.pivot(index='State',columns='Year',values='Production').plot(kind='bar',figsize=(13,6))\n",
        "plt.xlabel('State')\n",
        "plt.ylabel('Production (in Tonnes)')\n",
        "plt.title('Rice Production in Odisha and West Bengal')\n",
        "plt.show()"
      ],
      "execution_count": null,
      "outputs": [
        {
          "output_type": "display_data",
          "data": {
            "image/png": "[encoded data removed]",
            "text/plain": [
              "<Figure size 936x432 with 1 Axes>"
            ]
          },
          "metadata": {
            "tags": [],
            "needs_background": "light"
          }
        }
      ]
    },
    {
      "cell_type": "markdown",
      "metadata": {
        "id": "Wzal9CClBqys"
      },
      "source": [
        "The production of Rice in West Bengal and Odisha has risen over years"
      ]
    },
    {
      "cell_type": "markdown",
      "metadata": {
        "id": "wk_XwLAykB57"
      },
      "source": [
        "**Q.4 Which state has the highest production of Wheat?**"
      ]
    },
    {
      "cell_type": "code",
      "metadata": {
        "colab": {
          "base_uri": "https://localhost:8080/",
          "height": 423
        },
        "id": "zwHj5zu_dfHL",
        "outputId": "ac57f949-75ec-48bd-ccfc-09ea8ae48eb7"
      },
      "source": [
        "#First refining the dataset where Crop is Wheat and display the Columns 'Production','State','Crop' and 'Year'\n",
        "#Futher arranging the Procuction is descending order\n",
        "\n",
        "x=data[data.Crop==\"Wheat\"][['Production','State','Crop','Year']].sort_values(\"Production\", ascending=False)\n",
        "x     #print x"
      ],
      "execution_count": null,
      "outputs": [
        {
          "output_type": "execute_result",
          "data": {
            "text/html": [
              "<div>\n",
              "<style scoped>\n",
              "    .dataframe tbody tr th:only-of-type {\n",
              "        vertical-align: middle;\n",
              "    }\n",
              "\n",
              "    .dataframe tbody tr th {\n",
              "        vertical-align: top;\n",
              "    }\n",
              "\n",
              "    .dataframe thead th {\n",
              "        text-align: right;\n",
              "    }\n",
              "</style>\n",
              "<table border=\"1\" class=\"dataframe\">\n",
              "  <thead>\n",
              "    <tr style=\"text-align: right;\">\n",
              "      <th></th>\n",
              "      <th>Production</th>\n",
              "      <th>State</th>\n",
              "      <th>Crop</th>\n",
              "      <th>Year</th>\n",
              "    </tr>\n",
              "  </thead>\n",
              "  <tbody>\n",
              "    <tr>\n",
              "      <th>9692</th>\n",
              "      <td>31892480.0</td>\n",
              "      <td>Uttar Pradesh</td>\n",
              "      <td>Wheat</td>\n",
              "      <td>2011</td>\n",
              "    </tr>\n",
              "    <tr>\n",
              "      <th>9758</th>\n",
              "      <td>31492656.0</td>\n",
              "      <td>Uttar Pradesh</td>\n",
              "      <td>Wheat</td>\n",
              "      <td>2013</td>\n",
              "    </tr>\n",
              "    <tr>\n",
              "      <th>9725</th>\n",
              "      <td>31332434.0</td>\n",
              "      <td>Uttar Pradesh</td>\n",
              "      <td>Wheat</td>\n",
              "      <td>2012</td>\n",
              "    </tr>\n",
              "    <tr>\n",
              "      <th>9659</th>\n",
              "      <td>30000632.0</td>\n",
              "      <td>Uttar Pradesh</td>\n",
              "      <td>Wheat</td>\n",
              "      <td>2010</td>\n",
              "    </tr>\n",
              "    <tr>\n",
              "      <th>9596</th>\n",
              "      <td>28554178.0</td>\n",
              "      <td>Uttar Pradesh</td>\n",
              "      <td>Wheat</td>\n",
              "      <td>2008</td>\n",
              "    </tr>\n",
              "    <tr>\n",
              "      <th>...</th>\n",
              "      <td>...</td>\n",
              "      <td>...</td>\n",
              "      <td>...</td>\n",
              "      <td>...</td>\n",
              "    </tr>\n",
              "    <tr>\n",
              "      <th>8340</th>\n",
              "      <td>0.0</td>\n",
              "      <td>Tamil Nadu</td>\n",
              "      <td>Wheat</td>\n",
              "      <td>2004</td>\n",
              "    </tr>\n",
              "    <tr>\n",
              "      <th>8230</th>\n",
              "      <td>0.0</td>\n",
              "      <td>Tamil Nadu</td>\n",
              "      <td>Wheat</td>\n",
              "      <td>2002</td>\n",
              "    </tr>\n",
              "    <tr>\n",
              "      <th>8414</th>\n",
              "      <td>0.0</td>\n",
              "      <td>Tamil Nadu</td>\n",
              "      <td>Wheat</td>\n",
              "      <td>2006</td>\n",
              "    </tr>\n",
              "    <tr>\n",
              "      <th>8564</th>\n",
              "      <td>0.0</td>\n",
              "      <td>Tamil Nadu</td>\n",
              "      <td>Wheat</td>\n",
              "      <td>2011</td>\n",
              "    </tr>\n",
              "    <tr>\n",
              "      <th>4805</th>\n",
              "      <td>0.0</td>\n",
              "      <td>Kerala</td>\n",
              "      <td>Wheat</td>\n",
              "      <td>2012</td>\n",
              "    </tr>\n",
              "  </tbody>\n",
              "</table>\n",
              "<p>345 rows × 4 columns</p>\n",
              "</div>"
            ],
            "text/plain": [
              "      Production          State   Crop  Year\n",
              "9692  31892480.0  Uttar Pradesh  Wheat  2011\n",
              "9758  31492656.0  Uttar Pradesh  Wheat  2013\n",
              "9725  31332434.0  Uttar Pradesh  Wheat  2012\n",
              "9659  30000632.0  Uttar Pradesh  Wheat  2010\n",
              "9596  28554178.0  Uttar Pradesh  Wheat  2008\n",
              "...          ...            ...    ...   ...\n",
              "8340         0.0     Tamil Nadu  Wheat  2004\n",
              "8230         0.0     Tamil Nadu  Wheat  2002\n",
              "8414         0.0     Tamil Nadu  Wheat  2006\n",
              "8564         0.0     Tamil Nadu  Wheat  2011\n",
              "4805         0.0         Kerala  Wheat  2012\n",
              "\n",
              "[345 rows x 4 columns]"
            ]
          },
          "metadata": {
            "tags": []
          },
          "execution_count": 40
        }
      ]
    },
    {
      "cell_type": "code",
      "metadata": {
        "colab": {
          "base_uri": "https://localhost:8080/"
        },
        "id": "CAMIBJociqnH",
        "outputId": "68603edb-d848-4704-f861-dd83e930ae52"
      },
      "source": [
        "#Displaying State where Production is maximum for Wheat\n",
        "\n",
        "print(\"The State with highest Production of Wheat is :\")\n",
        "x[x.Production == x.Production.max()].State"
      ],
      "execution_count": null,
      "outputs": [
        {
          "output_type": "stream",
          "text": [
            "The State with highest Production of Wheat is :\n"
          ],
          "name": "stdout"
        },
        {
          "output_type": "execute_result",
          "data": {
            "text/plain": [
              "9692    Uttar Pradesh\n",
              "Name: State, dtype: object"
            ]
          },
          "metadata": {
            "tags": []
          },
          "execution_count": 41
        }
      ]
    },
    {
      "cell_type": "markdown",
      "metadata": {
        "id": "vZ70Ga3mCA7J"
      },
      "source": [
        "Uttar Pradesh has the highest production of Wheat.\n",
        "\n"
      ]
    },
    {
      "cell_type": "markdown",
      "metadata": {
        "id": "G3JlMpw_38Y4"
      },
      "source": [
        "**Q.5 Build a model to predict the production of Rice in 2014 for Andhra Pradesh, Uttar Pradesh and Tamil Nadu.**"
      ]
    },
    {
      "cell_type": "code",
      "metadata": {
        "colab": {
          "base_uri": "https://localhost:8080/",
          "height": 300
        },
        "id": "Y-CYdPq-Pg_q",
        "outputId": "bf2c5967-8258-4034-84fe-6f78abcf486a"
      },
      "source": [
        "data.describe()"
      ],
      "execution_count": null,
      "outputs": [
        {
          "output_type": "execute_result",
          "data": {
            "text/html": [
              "<div>\n",
              "<style scoped>\n",
              "    .dataframe tbody tr th:only-of-type {\n",
              "        vertical-align: middle;\n",
              "    }\n",
              "\n",
              "    .dataframe tbody tr th {\n",
              "        vertical-align: top;\n",
              "    }\n",
              "\n",
              "    .dataframe thead th {\n",
              "        text-align: right;\n",
              "    }\n",
              "</style>\n",
              "<table border=\"1\" class=\"dataframe\">\n",
              "  <thead>\n",
              "    <tr style=\"text-align: right;\">\n",
              "      <th></th>\n",
              "      <th>Year</th>\n",
              "      <th>Area</th>\n",
              "      <th>Production</th>\n",
              "      <th>Yield</th>\n",
              "    </tr>\n",
              "  </thead>\n",
              "  <tbody>\n",
              "    <tr>\n",
              "      <th>count</th>\n",
              "      <td>10704.000000</td>\n",
              "      <td>1.070400e+04</td>\n",
              "      <td>1.070400e+04</td>\n",
              "      <td>10704.000000</td>\n",
              "    </tr>\n",
              "    <tr>\n",
              "      <th>mean</th>\n",
              "      <td>2006.134342</td>\n",
              "      <td>2.126362e+05</td>\n",
              "      <td>1.115409e+07</td>\n",
              "      <td>75.862793</td>\n",
              "    </tr>\n",
              "    <tr>\n",
              "      <th>std</th>\n",
              "      <td>3.973598</td>\n",
              "      <td>7.238971e+05</td>\n",
              "      <td>2.263971e+08</td>\n",
              "      <td>1065.104538</td>\n",
              "    </tr>\n",
              "    <tr>\n",
              "      <th>min</th>\n",
              "      <td>2000.000000</td>\n",
              "      <td>1.000000e+00</td>\n",
              "      <td>0.000000e+00</td>\n",
              "      <td>0.000000</td>\n",
              "    </tr>\n",
              "    <tr>\n",
              "      <th>25%</th>\n",
              "      <td>2003.000000</td>\n",
              "      <td>1.506000e+03</td>\n",
              "      <td>1.500000e+03</td>\n",
              "      <td>0.533333</td>\n",
              "    </tr>\n",
              "    <tr>\n",
              "      <th>50%</th>\n",
              "      <td>2006.000000</td>\n",
              "      <td>1.096650e+04</td>\n",
              "      <td>1.551650e+04</td>\n",
              "      <td>1.000000</td>\n",
              "    </tr>\n",
              "    <tr>\n",
              "      <th>75%</th>\n",
              "      <td>2010.000000</td>\n",
              "      <td>9.252500e+04</td>\n",
              "      <td>1.424018e+05</td>\n",
              "      <td>2.491925</td>\n",
              "    </tr>\n",
              "    <tr>\n",
              "      <th>max</th>\n",
              "      <td>2013.000000</td>\n",
              "      <td>1.237800e+07</td>\n",
              "      <td>6.326000e+09</td>\n",
              "      <td>70662.500000</td>\n",
              "    </tr>\n",
              "  </tbody>\n",
              "</table>\n",
              "</div>"
            ],
            "text/plain": [
              "               Year          Area    Production         Yield\n",
              "count  10704.000000  1.070400e+04  1.070400e+04  10704.000000\n",
              "mean    2006.134342  2.126362e+05  1.115409e+07     75.862793\n",
              "std        3.973598  7.238971e+05  2.263971e+08   1065.104538\n",
              "min     2000.000000  1.000000e+00  0.000000e+00      0.000000\n",
              "25%     2003.000000  1.506000e+03  1.500000e+03      0.533333\n",
              "50%     2006.000000  1.096650e+04  1.551650e+04      1.000000\n",
              "75%     2010.000000  9.252500e+04  1.424018e+05      2.491925\n",
              "max     2013.000000  1.237800e+07  6.326000e+09  70662.500000"
            ]
          },
          "metadata": {
            "tags": []
          },
          "execution_count": 42
        }
      ]
    },
    {
      "cell_type": "code",
      "metadata": {
        "colab": {
          "base_uri": "https://localhost:8080/"
        },
        "id": "DPgiurunQrdf",
        "outputId": "24c86103-6a60-479e-a0a7-79ce98173cab"
      },
      "source": [
        "data.isnull().sum() # Shows the sum of NULL values in dataset"
      ],
      "execution_count": null,
      "outputs": [
        {
          "output_type": "execute_result",
          "data": {
            "text/plain": [
              "State         0\n",
              "Year          0\n",
              "Crop          0\n",
              "Area          0\n",
              "Production    0\n",
              "Yield         0\n",
              "dtype: int64"
            ]
          },
          "metadata": {
            "tags": []
          },
          "execution_count": 43
        }
      ]
    },
    {
      "cell_type": "code",
      "metadata": {
        "colab": {
          "base_uri": "https://localhost:8080/",
          "height": 143
        },
        "id": "x2k4VzfvQAI2",
        "outputId": "1c8b7039-9a47-4ec3-eacd-d42ecc4ae06b"
      },
      "source": [
        "from sklearn.preprocessing import LabelEncoder\n",
        "from sklearn.model_selection import train_test_split\n",
        "from sklearn.ensemble import RandomForestRegressor #Using Random Forest\n",
        "from sklearn.metrics import roc_auc_score, classification_report, mean_squared_error, r2_score\n",
        "\n",
        "le = LabelEncoder()\n",
        "\n",
        "# Alloting index for unique column values\n",
        "State = le.fit_transform(data.State) #0-32 (33 States)\n",
        "Year = le.fit_transform(data.Year)  #0-13 (Year 2000-2013)\n",
        "Crop = le.fit_transform(data.Crop) #0-121 (122 Crops)\n",
        "\n",
        "data['State'] = State\n",
        "data['Year'] = Year\n",
        "data['Crop'] = Crop\n",
        "data.head(3) #Displaying top 3 values of transformed dataset"
      ],
      "execution_count": null,
      "outputs": [
        {
          "output_type": "execute_result",
          "data": {
            "text/html": [
              "<div>\n",
              "<style scoped>\n",
              "    .dataframe tbody tr th:only-of-type {\n",
              "        vertical-align: middle;\n",
              "    }\n",
              "\n",
              "    .dataframe tbody tr th {\n",
              "        vertical-align: top;\n",
              "    }\n",
              "\n",
              "    .dataframe thead th {\n",
              "        text-align: right;\n",
              "    }\n",
              "</style>\n",
              "<table border=\"1\" class=\"dataframe\">\n",
              "  <thead>\n",
              "    <tr style=\"text-align: right;\">\n",
              "      <th></th>\n",
              "      <th>State</th>\n",
              "      <th>Year</th>\n",
              "      <th>Crop</th>\n",
              "      <th>Area</th>\n",
              "      <th>Production</th>\n",
              "      <th>Yield</th>\n",
              "    </tr>\n",
              "  </thead>\n",
              "  <tbody>\n",
              "    <tr>\n",
              "      <th>0</th>\n",
              "      <td>0</td>\n",
              "      <td>0</td>\n",
              "      <td>2</td>\n",
              "      <td>4354.0</td>\n",
              "      <td>7200.0</td>\n",
              "      <td>1.653652</td>\n",
              "    </tr>\n",
              "    <tr>\n",
              "      <th>1</th>\n",
              "      <td>0</td>\n",
              "      <td>0</td>\n",
              "      <td>7</td>\n",
              "      <td>1707.0</td>\n",
              "      <td>12714.0</td>\n",
              "      <td>7.448155</td>\n",
              "    </tr>\n",
              "    <tr>\n",
              "      <th>2</th>\n",
              "      <td>0</td>\n",
              "      <td>0</td>\n",
              "      <td>22</td>\n",
              "      <td>800.0</td>\n",
              "      <td>219.0</td>\n",
              "      <td>0.273750</td>\n",
              "    </tr>\n",
              "  </tbody>\n",
              "</table>\n",
              "</div>"
            ],
            "text/plain": [
              "   State  Year  Crop    Area  Production     Yield\n",
              "0      0     0     2  4354.0      7200.0  1.653652\n",
              "1      0     0     7  1707.0     12714.0  7.448155\n",
              "2      0     0    22   800.0       219.0  0.273750"
            ]
          },
          "metadata": {
            "tags": []
          },
          "execution_count": 44
        }
      ]
    },
    {
      "cell_type": "code",
      "metadata": {
        "colab": {
          "base_uri": "https://localhost:8080/"
        },
        "id": "gJskL2tZ9P22",
        "outputId": "db5f8db5-f07d-4f15-e141-90ad9c335033"
      },
      "source": [
        "train = data.iloc[:, :-2]  #Selecting all the rows and upto last third column for training\n",
        "test = data.iloc[:, -2] #Selecting all the rows and last second column for testing\n",
        "print(train.shape)\n",
        "print(test.shape)\n",
        "\n",
        "#Splitting the dataset\n",
        "X_train,X_test,y_train,y_test = train_test_split(train,test, test_size=0.2, random_state=100)\n",
        "forest = RandomForestRegressor(n_estimators = 1000, criterion='mse',random_state=1,n_jobs=1)\n",
        "forest.fit(X_train, y_train) #Train the dataset\n",
        "\n",
        "#Testing\n",
        "ytrain_pred = forest.predict(X_train)\n",
        "ytest_pred = forest.predict(X_test)"
      ],
      "execution_count": null,
      "outputs": [
        {
          "output_type": "stream",
          "text": [
            "(10704, 4)\n",
            "(10704,)\n"
          ],
          "name": "stdout"
        }
      ]
    },
    {
      "cell_type": "code",
      "metadata": {
        "colab": {
          "base_uri": "https://localhost:8080/"
        },
        "id": "tNcCTsio9uvU",
        "outputId": "da4fc66d-e296-4802-ce9a-cc75b9721c80"
      },
      "source": [
        "print('MSE train : %.3f , MSE Test:%.3f ' %(mean_squared_error(y_train,ytrain_pred),\n",
        "                                        mean_squared_error(y_test,ytest_pred)))\n",
        "print('R2score train : %.3f , R2score Test:%.3f ' %(r2_score(y_train,ytrain_pred),\n",
        "                                        r2_score(y_test,ytest_pred)))"
      ],
      "execution_count": null,
      "outputs": [
        {
          "output_type": "stream",
          "text": [
            "MSE train : 1510231420220929.500 , MSE Test:27640513364559260.000 \n",
            "R2score train : 0.968 , R2score Test:0.597 \n"
          ],
          "name": "stdout"
        }
      ]
    },
    {
      "cell_type": "code",
      "metadata": {
        "colab": {
          "base_uri": "https://localhost:8080/"
        },
        "id": "iP4QI1mzI6Lh",
        "outputId": "455fe7bd-1a23-408d-88a3-215326e47bbf"
      },
      "source": [
        "print('Enter 1, 27 and 30 for Andhra Pradesh, Tamil Nadu and Uttar Pradesh respectively.\\n14 for Year 2014.\\n7 for crop Rice.\\n')\n",
        "\n",
        "#Getting user input\n",
        "state= input('Enter State: ')\n",
        "year= input('Enter Year: ')\n",
        "crop=input('Enter Crop: ')\n",
        "area=input('Enter Area: ')\n",
        "\n",
        "output=forest.predict([[float(state),float(year),float(crop),float(area)]])\n",
        "print('Crop Production:',output)"
      ],
      "execution_count": null,
      "outputs": [
        {
          "output_type": "stream",
          "text": [
            "Enter 1, 27 and 30 for Andhra Pradesh, Tamil Nadu and Uttar Pradesh respectively.\n",
            "14 for Year 2014.\n",
            "7 for crop Rice.\n",
            "\n",
            "Enter State: 1\n",
            "Enter Year: 14\n",
            "Enter Crop: 7\n",
            "Enter Area: 1000\n",
            "Crop Production: [130794.146]\n"
          ],
          "name": "stdout"
        }
      ]
    },
    {
      "cell_type": "markdown",
      "metadata": {
        "id": "owV1u_vAItM-"
      },
      "source": [
        "Production of Rice in 2014 for **Andhra Pradesh** is **130794.146 Tonnes** for 1000 Hectares"
      ]
    },
    {
      "cell_type": "code",
      "metadata": {
        "id": "Bc4wojDvI-Y0",
        "colab": {
          "base_uri": "https://localhost:8080/"
        },
        "outputId": "325534f7-c3b0-4ab1-eb69-d9716aa62f6c"
      },
      "source": [
        "print('Enter 1, 27 and 30 for Andhra Pradesh, Tamil Nadu and Uttar Pradesh respectively.\\n14 for Year 2014.\\n7 for crop Rice.\\n')\n",
        "state= input('Enter State: ')\n",
        "year= input('Enter Year: ')\n",
        "crop=input('Enter Crop: ')\n",
        "area=input('Enter Area: ')\n",
        "\n",
        "output=forest.predict([[float(state),float(year),float(crop),float(area)]])\n",
        "print('Crop Production:',output)"
      ],
      "execution_count": null,
      "outputs": [
        {
          "output_type": "stream",
          "text": [
            "Enter 1, 27 and 30 for Andhra Pradesh, Tamil Nadu and Uttar Pradesh respectively.\n",
            "14 for Year 2014.\n",
            "7 for crop Rice.\n",
            "\n",
            "Enter State: 30\n",
            "Enter Year: 14\n",
            "Enter Crop: 7\n",
            "Enter Area: 1000\n",
            "Crop Production: [16668.8352]\n"
          ],
          "name": "stdout"
        }
      ]
    },
    {
      "cell_type": "markdown",
      "metadata": {
        "id": "I9sN6k2nItcR"
      },
      "source": [
        "Production of Rice in 2014 for **Uttar Pradesh** is **16668.8352 Tonnes** for 1000 Hectares"
      ]
    },
    {
      "cell_type": "code",
      "metadata": {
        "colab": {
          "base_uri": "https://localhost:8080/"
        },
        "id": "sMAojNDZ9-Hq",
        "outputId": "0efb6e28-8ebe-41db-b097-9173e0230e75"
      },
      "source": [
        "print('Enter 1, 27 and 30 for Andhra Pradesh, Tamil Nadu and Uttar Pradesh respectively.\\n14 for Year 2014.\\n7 for crop Rice.\\n')\n",
        "state= input('Enter State: ')\n",
        "year= input('Enter Year: ')\n",
        "crop=input('Enter Crop: ')\n",
        "area=input('Enter Area: ')\n",
        "\n",
        "output=forest.predict([[float(state),float(year),float(crop),float(area)]])\n",
        "print('Crop Production:',output)\n"
      ],
      "execution_count": null,
      "outputs": [
        {
          "output_type": "stream",
          "text": [
            "Enter 1, 27 and 30 for Andhra Pradesh, Tamil Nadu and Uttar Pradesh respectively.\n",
            "14 for Year 2014.\n",
            "7 for crop Rice.\n",
            "\n",
            "Enter State: 27\n",
            "Enter Year: 14\n",
            "Enter Crop: 7\n",
            "Enter Area: 1000\n",
            "Crop Production: [12505.229]\n"
          ],
          "name": "stdout"
        }
      ]
    },
    {
      "cell_type": "markdown",
      "metadata": {
        "id": "v1uwQZrOITLR"
      },
      "source": [
        "Production of Rice in 2014 for **Tamil Nadu** is **12505.229 Tonnes** for 1000 Hectares"
      ]
    },
    {
      "cell_type": "code",
      "metadata": {
        "id": "6C1Vm6goMFKY"
      },
      "source": [
        "#Selecting data where Crop is rice(7) and state is AP,UP,TN\n",
        "datain_AP_UP_TN=data[(data.Crop==7) & (data.State.isin([1,27,30]))]"
      ],
      "execution_count": null,
      "outputs": []
    },
    {
      "cell_type": "code",
      "metadata": {
        "colab": {
          "base_uri": "https://localhost:8080/",
          "height": 407
        },
        "id": "O96XmvGHGpmi",
        "outputId": "8b686b29-b3a7-4954-ccc0-98e2f0bc0452"
      },
      "source": [
        "#bar plat with year in x-axis and yield in y-axis\n",
        "datain_AP_UP_TN.pivot(index='Year',columns='State',values='Yield').plot(kind='bar',figsize=(13,6))\n",
        "plt.xlabel('Year')\n",
        "plt.ylabel('Yield (in Tonnes/Hectare)')\n",
        "plt.title('Rice Yield of Andhra Pradesh(1), Tamil Nadu(27) and Uttar Pradesh(30)')\n",
        "plt.legend(loc='upper right')\n",
        "plt.show()"
      ],
      "execution_count": null,
      "outputs": [
        {
          "output_type": "display_data",
          "data": {
            "image/png": "[encoded data removed]",
            "text/plain": [
              "<Figure size 936x432 with 1 Axes>"
            ]
          },
          "metadata": {
            "tags": [],
            "needs_background": "light"
          }
        }
      ]
    },
    {
      "cell_type": "markdown",
      "metadata": {
        "id": "3EypdKpDnKtU"
      },
      "source": [
        "*    Rice yield in Tamil Nadu is more than rice yeild in Andhra Pradesh and Uttar Pradesh.\n",
        "*    In year 2006, rice yeild was maximum in Tamil Nadu after that gradual decrease can be seen.\n",
        "*    Andhra Pradesh had lowest rice yeild in the year 2003.\n",
        "*    In the year 2007 and 2012, rice was not cultivated in Andhra Pradesh.\n",
        "*    There was no rice cultivation in UP for the year 2000-2003, 2007, 2010 and 2012.\n",
        "*    In the year 2001, 2010 and 2012 Rice was not grown in Tamil Nadu.\n",
        "*    In the year 2011, there was same rice yeild in TN and UP."
      ]
    },
    {
      "cell_type": "code",
      "metadata": {
        "id": "BQBiWPfsP_b1",
        "colab": {
          "base_uri": "https://localhost:8080/"
        },
        "cellView": "form",
        "outputId": "e384232b-a6d7-4cc7-f291-47fb89545130"
      },
      "source": [
        "#@title Rice Prediction GUI\n",
        "#@markdown Select 1, 30 and 27 for Andhra Pradesh, Uttar Pradesh and Tamil Nadu respectively; 14 for Year 2014; 7 for crop Rice\n",
        "\n",
        "#@markdown After selecting all the values run the cell\n",
        "state = '1' #@param [\"1\",\"30\",\"27\"]\n",
        "crop = '7' #@param [\"7\"]\n",
        "year = '14' #@param [\"14\"]\n",
        "area = 1000 #@param {type: \"number\"}\n",
        "output=forest.predict([[float(state),float(year),float(crop),float(area)]])\n",
        "print('Crop Production (in Tonnes):',output)\n",
        "print('Crop Yield (in Tonnes/Hectare):', output/area)"
      ],
      "execution_count": null,
      "outputs": [
        {
          "output_type": "stream",
          "text": [
            "Crop Production (in Tonnes): [130794.146]\n",
            "Crop Yield (in Tonnes/Hectare): [130.794146]\n"
          ],
          "name": "stdout"
        }
      ]
    }
  ]
}